{
 "cells": [
  {
   "cell_type": "code",
   "execution_count": null,
   "id": "42002f17",
   "metadata": {},
   "outputs": [
    {
     "name": "stdout",
     "output_type": "stream",
     "text": [
      "{'h': 1, 'o': 2, 'l': 1, 'a': 1, 'm': 1, 'u': 1, 'n': 1, 'd': 1}\n"
     ]
    }
   ],
   "source": [
    "# 1. Escribe una función que reciba una cadena de texto como parámetro y devuelva un \n",
    "# diccionario con las frecuencias de cada letra en la cadena. Los espacios no deben ser considerados.\n",
    "\n",
    "def contar_frecuencias(cadena):\n",
    "    frecuencia = {}\n",
    "    cadena = cadena.replace(\" \", \"\")  # Eliminamos los espacios\n",
    "    \n",
    "    for letra in cadena:\n",
    "        frecuencia[letra] = frecuencia.get(letra, 0) + 1\n",
    "    \n",
    "    return frecuencia\n",
    "\n",
    "# Ejemplo de uso:\n",
    "texto = \"hola mundo\"\n",
    "resultado = contar_frecuencias(texto)\n",
    "print(resultado)\n"
   ]
  },
  {
   "cell_type": "code",
   "execution_count": null,
   "id": "9fa67966",
   "metadata": {},
   "outputs": [
    {
     "name": "stdout",
     "output_type": "stream",
     "text": [
      "[2, 4, 6, 8, 10]\n"
     ]
    }
   ],
   "source": [
    "# 2. Dada una lista de números, obtén una nueva lista con el doble de cada valor. \n",
    "# Usa la función map()\n",
    "\n",
    "def duplicar_lista(numeros):\n",
    "    return list(map(lambda x: x * 2, numeros))\n",
    "\n",
    "# Ejemplo de uso:\n",
    "lista = [1, 2, 3, 4, 5]\n",
    "resultado = duplicar_lista(lista)\n",
    "print(resultado)"
   ]
  },
  {
   "cell_type": "code",
   "execution_count": null,
   "id": "23c25bb6",
   "metadata": {},
   "outputs": [
    {
     "name": "stdout",
     "output_type": "stream",
     "text": [
      "['gato']\n"
     ]
    }
   ],
   "source": [
    "# 3.  Escribe una función que tome una lista de palabras y una palabra objetivo como parámetros. \n",
    "# La función debe devolver una lista con todas las palabras de la lista original que contengan \n",
    "# la palabra objetivo\n",
    "\n",
    "def filtrar_palabras(lista_palabras, palabra_objetivo):\n",
    "    return list(filter(lambda palabra: palabra_objetivo in palabra, lista_palabras))\n",
    "\n",
    "# Ejemplo de uso:\n",
    "palabras = [\"gato\", \"perro\", \"gatito\", \"ratón\", \"águila\"]\n",
    "objetivo = \"gato\"\n",
    "resultado = filtrar_palabras(palabras, objetivo)\n",
    "print(resultado)\n"
   ]
  },
  {
   "cell_type": "code",
   "execution_count": 5,
   "id": "886e92c0",
   "metadata": {},
   "outputs": [
    {
     "name": "stdout",
     "output_type": "stream",
     "text": [
      "Los valores distintos entre las dos listas son: [9, 15, 20, 20]\n"
     ]
    }
   ],
   "source": [
    "# 4. Genera una función que calcule la diferencia entre los valores de dos listas. \n",
    "# Usa la función map()\n",
    "\n",
    "def diferencia_listas(lista1, lista2):\n",
    "    return list(map(lambda x, y: x - y, lista1, lista2))\n",
    "\n",
    "# Ejemplo de uso:\n",
    "lista_a = [10, 20, 30, 40]\n",
    "lista_b = [1, 5, 10, 20]\n",
    "resultado = diferencia_listas(lista_a, lista_b)\n",
    "print(f\"Los valores distintos entre las dos listas son: {resultado}\")\n"
   ]
  },
  {
   "cell_type": "code",
   "execution_count": null,
   "id": "bfc38d84",
   "metadata": {},
   "outputs": [
    {
     "name": "stdout",
     "output_type": "stream",
     "text": [
      "Los resultados en clase han sido: ((6, 'aprobado'), (3, 'suspenso'), (8, 'aprobado'), (4, 'suspenso'), (5, 'aprobado'))\n",
      "<class 'tuple'>\n"
     ]
    }
   ],
   "source": [
    "5. #  Ecribe una función que tome una lista de números como parámetro y un valor opcional \n",
    "# nota_aprobado, que por defecto es 5. La función debe calcular la media de los números en la \n",
    "# lista y determinar si la media es mayor o igual que nota aprobado. Si es así, el estado será \n",
    "# \"aprobado\", de lo contrario, será \"suspenso\". La función debe devolver una tupla que contenga \n",
    "# la media y el estado.\n",
    "\n",
    "def evaluar_notas(notas, nota_aprobado=5):\n",
    "    resultado = tuple((nota, \n",
    "                       \"aprobado\" if nota >= nota_aprobado \n",
    "                       else \"suspenso\") for nota in notas)\n",
    "    return resultado\n",
    "\n",
    "# Ejemplo de uso:\n",
    "lista_notas = [6, 3, 8, 4, 5]\n",
    "resultado = evaluar_notas(lista_notas)\n",
    "print(f\"Los resultados en clase han sido: {resultado}\")\n",
    "print(type(resultado))"
   ]
  },
  {
   "cell_type": "code",
   "execution_count": 44,
   "id": "2e9f4f1d",
   "metadata": {},
   "outputs": [
    {
     "name": "stdout",
     "output_type": "stream",
     "text": [
      "El factorial de 5 es 120\n"
     ]
    }
   ],
   "source": [
    " # 6. Escribe una función que calcule el factorial de un número de manera recursiva\n",
    "\n",
    "def factorial(n):\n",
    "    if n == 0 or n == 1:\n",
    "        return 1  # Caso base: el factorial de 0 y 1 es 1\n",
    "    else:\n",
    "        return n * factorial(n - 1)  # Llamada recursiva\n",
    "\n",
    "# Ejemplo de uso:\n",
    "numero = 5\n",
    "resultado = factorial(numero)\n",
    "print(f\"El factorial de {numero} es {resultado}\")"
   ]
  },
  {
   "cell_type": "code",
   "execution_count": null,
   "id": "3eee675b",
   "metadata": {},
   "outputs": [
    {
     "name": "stdout",
     "output_type": "stream",
     "text": [
      "Eurovisión prime fue ['1 El breaking dancing', '2 crusaíto', '3 El robocop', '4 El Maikel Jackson']\n"
     ]
    }
   ],
   "source": [
    "# 7. Genera una función que convierta una lista de tuplas a una lista de strings. \n",
    "# Usa la función map()\n",
    "\n",
    "def convertir_a_strings(lista_tuplas):\n",
    "    return list(map(lambda tupla: \" \".join(map(str, tupla)), lista_tuplas))\n",
    "\n",
    "# Ejemplo de uso:\n",
    "tuplas = [(1, \"El breaking dancing\"), (2, \"crusaíto\"), (3, \"El robocop\"), (4, \"El Maikel Jackson\")]\n",
    "resultado = convertir_a_strings(tuplas)\n",
    "print(f\"Eurovisión prime fue {resultado}\")"
   ]
  },
  {
   "cell_type": "code",
   "execution_count": 56,
   "id": "0c00595e",
   "metadata": {},
   "outputs": [
    {
     "name": "stdout",
     "output_type": "stream",
     "text": [
      "Error: Debes ingresar números válidos.\n"
     ]
    }
   ],
   "source": [
    "# 8. Escribe un programa que pida al usuario dos números e intente dividirlos. Si el usuario \n",
    "# ingresa un valor no numérico o intenta dividir por cero, maneja esas excepciones de manera \n",
    "# adecuada. Asegúrate de mostrar un mensaje indicando si la división fue exitosa o no.\n",
    "\n",
    "def dividir_numeros():\n",
    "    try:\n",
    "        num1 = float(input(\"Ingrese el primer número: \"))\n",
    "        num2 = float(input(\"Ingrese el segundo número: \"))\n",
    "\n",
    "        resultado = num1 / num2\n",
    "        print(f\"La división fue exitosa: {num1} / {num2} = {resultado}\")\n",
    "\n",
    "    except ValueError:\n",
    "        print(\"Error: Debes ingresar números válidos.\")\n",
    "    except ZeroDivisionError:\n",
    "        print(\"Error: No se puede dividir por cero.\")\n",
    "    except Exception as e:\n",
    "        print(f\"Ocurrió un error inesperado: {e}\")\n",
    "\n",
    "dividir_numeros()"
   ]
  },
  {
   "cell_type": "code",
   "execution_count": 61,
   "id": "85a41cca",
   "metadata": {},
   "outputs": [
    {
     "name": "stdout",
     "output_type": "stream",
     "text": [
      "Algunas de las mascotas permitidas en España son: ['Perro', 'Gato', 'Conejo', 'Hámster']\n"
     ]
    }
   ],
   "source": [
    "# 9.  Escribe una función que tome una lista de nombres de mascotas como parámetro y devuelva \n",
    "# una nueva lista excluyendo ciertas mascotas prohibidas en España. La lista de mascotas a \n",
    "# excluir es [\"Mapache\", \"Tigre\", \"Serpiente Pitón\", \"Cocodrilo\", \"Oso\"]. Usa la función filter()\n",
    "\n",
    "def filtrar_mascotas(lista_mascotas):\n",
    "    mascotas_prohibidas = [\"Mapache\", \"Tigre\", \"Serpiente Pitón\", \"Cocodrilo\", \"Oso\"]\n",
    "    return list(filter(lambda mascota: mascota not in mascotas_prohibidas, lista_mascotas))\n",
    "\n",
    "# Ejemplo de uso:\n",
    "mascotas = [\"Perro\", \"Gato\", \"Mapache\", \"Conejo\", \"Tigre\", \"Hámster\", \"Serpiente Pitón\"]\n",
    "resultado = filtrar_mascotas(mascotas)\n",
    "print(f\"Algunas de las mascotas permitidas en España son: {resultado}\")\n"
   ]
  },
  {
   "cell_type": "code",
   "execution_count": 73,
   "id": "7127fec0",
   "metadata": {},
   "outputs": [
    {
     "name": "stdout",
     "output_type": "stream",
     "text": [
      "El promedio es 57.75\n"
     ]
    }
   ],
   "source": [
    "# 10. Escribe una función que reciba una lista de números y calcule su promedio. \n",
    "# Si la lista está vacía, lanza una excepción personalizada y maneja el error adecuadamente.\n",
    "\n",
    "def calculadora_de_medias(numeros):\n",
    "    if not numeros:\n",
    "        return None  # Si la lista está vacía, devuelve None\n",
    "    \n",
    "    return sum(numeros) / len(numeros)\n",
    "\n",
    "# Ejemplo de uso:\n",
    "lista_numeros = [45, 76, 34, 76]\n",
    "resultado = calculadora_de_medias(lista_numeros)\n",
    "\n",
    "if resultado is not None:\n",
    "    print(f\"El promedio es {resultado}\")\n",
    "else:\n",
    "    print(\"No se puede calcular la media porque la lista está vacía.\")\n",
    "\n",
    "    "
   ]
  },
  {
   "cell_type": "code",
   "execution_count": null,
   "id": "6b4c5517",
   "metadata": {},
   "outputs": [],
   "source": [
    "# 11.  Escribe un programa que pida al usuario que introduzca su edad. Si el usuario ingresa \n",
    "# un valor no numérico o un valor fuera del rango esperado (por ejemplo, menor que 0 o mayor \n",
    "# que 120), maneja las excepciones adecuadamente.\n",
    "\n"
   ]
  },
  {
   "cell_type": "code",
   "execution_count": 82,
   "id": "5a35c4c9",
   "metadata": {},
   "outputs": [
    {
     "name": "stdout",
     "output_type": "stream",
     "text": [
      "Debes introducir un número válido\n"
     ]
    }
   ],
   "source": [
    "def pedir_edad():\n",
    "    edad = input(\"Introtude tu edad:\")\n",
    "\n",
    "    if edad.isdigit():\n",
    "        edad = int(edad)\n",
    "\n",
    "        if 0 <= edad <= 120:\n",
    "            print(f\"Tienes {edad} años\")\n",
    "        else:\n",
    "            print(f\"La edad introducida está fuera de rango (0, 120)\")        \n",
    "    else:\n",
    "        print(\"Debes introducir un número válido\")\n",
    "\n",
    "pedir_edad()\n",
    "    "
   ]
  },
  {
   "cell_type": "code",
   "execution_count": null,
   "id": "8a491c03",
   "metadata": {},
   "outputs": [
    {
     "name": "stdout",
     "output_type": "stream",
     "text": [
      "La longitud de las palabras de tu frase es: [5, 4, 2, 2, 7, 2, 6]\n"
     ]
    }
   ],
   "source": [
    "# 12. Genera una función que al recibir una frase devuelva una lista con la longitud \n",
    "# de cada palabra. Usa la función map()\n",
    "\n",
    "def longitud_palabras(frase):\n",
    "    palabras = frase.split()  # Divide la frase en palabras\n",
    "    return list(map(len, palabras))  # Aplica la función len() a cada palabra\n",
    "\n",
    "# Ejemplo de uso:\n",
    "frase = \"Hola, esto es un ejemplo de Python\"\n",
    "resultado = longitud_palabras(frase)\n",
    "print(f\"La longitud de las palabras de tu frase es: {resultado}\")"
   ]
  },
  {
   "cell_type": "code",
   "execution_count": 97,
   "id": "cf1b2e02",
   "metadata": {},
   "outputs": [
    {
     "name": "stdout",
     "output_type": "stream",
     "text": [
      "{('F', 'f'), ('V', 'v'), ('D', 'd'), ('T', 't'), ('H', 'h'), ('S', 's')}\n"
     ]
    }
   ],
   "source": [
    "# 13. Genera una función la cual, para un conjunto de caracteres, devuelva una lista de \n",
    "# tuplas con cada letra en mayúsculas y minúsculas. Las letras no pueden estar repetidas.\n",
    "# Usa la función map()\n",
    "\n",
    "def convertir_mayus_minus(caracteres):\n",
    "    caracteres_unicos = set(caracteres)  # Eliminamos duplicados usando un conjunto\n",
    "    return list(map(lambda c: (c.upper(), c.lower()), caracteres_unicos))\n",
    "\n",
    "# Ejemplo de uso:\n",
    "conjunto_caracteres = \"sfdvsth\"\n",
    "resultado = set(convertir_mayus_minus(conjunto_caracteres))\n",
    "print(resultado)\n"
   ]
  },
  {
   "cell_type": "code",
   "execution_count": 108,
   "id": "c7ba42bc",
   "metadata": {},
   "outputs": [
    {
     "name": "stdout",
     "output_type": "stream",
     "text": [
      "Las palabras de tu lista que empiezan por 'm' son ['manzana', 'melon', 'melocotón']\n"
     ]
    }
   ],
   "source": [
    "# 14. Crea una función que retorne las palabras de una lista de palabras que comience \n",
    "# con una letra en especifico. Usa la función filter()\n",
    "\n",
    "def palabras_con_letrita(lista_palabras, letra):\n",
    "    return list(filter(lambda palabra: palabra.startswith(letra), lista_palabras))\n",
    "\n",
    "lista_palabras = [\"manzana\", \"pera\", \"aguacate\", \"melon\", \"albaricoque\", \"melocotón\"]\n",
    "letra_especifica = \"m\"\n",
    "resultado = palabras_con_letrita(lista_palabras, letra_especifica)\n",
    "print(f\"Las palabras de tu lista que empiezan por '{letra_especifica}' son {resultado}\")"
   ]
  },
  {
   "cell_type": "code",
   "execution_count": 112,
   "id": "3b27f367",
   "metadata": {},
   "outputs": [
    {
     "name": "stdout",
     "output_type": "stream",
     "text": [
      "Tu nueva lista +3 es [4, 7, 10, 13]\n"
     ]
    }
   ],
   "source": [
    "# 15. Crea una función lambda que sume 3 a cada número de una lista dada\n",
    "\n",
    "sumar_tres = lambda numeros: list(map(lambda x: x + 3, numeros))\n",
    "\n",
    "# Ejemplo de uso:\n",
    "lista_numeros = [1, 4, 7, 10]\n",
    "resultado = sumar_tres(lista_numeros)\n",
    "print(f\"Tu nueva lista +3 es {resultado}\")\n"
   ]
  },
  {
   "cell_type": "code",
   "execution_count": 115,
   "id": "a505efe3",
   "metadata": {},
   "outputs": [
    {
     "name": "stdout",
     "output_type": "stream",
     "text": [
      "En tu lista de palabras, son ['estudiando', 'domingo'] las que tienen más de 5 letras.\n"
     ]
    }
   ],
   "source": [
    "# 16. Escribe una función que tome una cadena de texto y un número entero n como parámetros \n",
    "# y devuelva una lista de todas las palabras que sean más largas que n. Usa la función filter()\n",
    "\n",
    "def palabras_mas_largas(texto, n):\n",
    "    palabras = texto.split()  # Separa la cadena en palabras\n",
    "    return list(filter(lambda palabra: len(palabra) > n, palabras))\n",
    "\n",
    "# Ejemplo de uso:\n",
    "frase = \"Estoy estudiando un domingo a las tres de la tarde\"\n",
    "longitud_minima = 5\n",
    "resultado = palabras_mas_largas(frase, longitud_minima)\n",
    "print(f\"En tu lista de palabras, son {resultado} las que tienen más de {longitud_minima} letras.\")\n"
   ]
  },
  {
   "cell_type": "code",
   "execution_count": 128,
   "id": "fe738827",
   "metadata": {},
   "outputs": [
    {
     "name": "stdout",
     "output_type": "stream",
     "text": [
      "Tu lista hecha cifra: 383\n"
     ]
    }
   ],
   "source": [
    "# 17. Crea una función que tome una lista de dígitos y devuelva el número \n",
    "# correspondiente. Por ejemplo, [5,7,2] corresponde al número quinientos setenta y \n",
    "# dos (572). Usa la función reduce()\n",
    "\n",
    "from functools import reduce\n",
    "\n",
    "def lista_a_numero(digitos):\n",
    "    return reduce(lambda x, y: x + y, map(str, digitos))\n",
    "\n",
    "# Ejemplos de uso\n",
    "print(f\"Tu lista hecha cifra: {lista_a_numero([3, 8, 3])}\") "
   ]
  },
  {
   "cell_type": "code",
   "execution_count": 134,
   "id": "64334d8f",
   "metadata": {},
   "outputs": [
    {
     "name": "stdout",
     "output_type": "stream",
     "text": [
      "Estudiantes destacados:\n",
      "- Ana (20 años) → Calificación: 95\n",
      "- Sofia (19 años) → Calificación: 92\n",
      "- Elena (23 años) → Calificación: 90\n"
     ]
    }
   ],
   "source": [
    "# 18.  Escribe un programa en Python que cree una lista de diccionarios que contenga \n",
    "# información de estudiantes (nombre, edad, calificación) y use la función filter para \n",
    "# extraer a los estudiantes con una calificación mayor o igual a 90. Usa la función filter()\n",
    "\n",
    "# Lista de estudiantes con nombre, edad y calificación\n",
    "estudiantes = [\n",
    "    {\"nombre\": \"Ana\", \"edad\": 20, \"calificacion\": 95},\n",
    "    {\"nombre\": \"Luis\", \"edad\": 22, \"calificacion\": 88},\n",
    "    {\"nombre\": \"Sofia\", \"edad\": 19, \"calificacion\": 92},\n",
    "    {\"nombre\": \"Carlos\", \"edad\": 21, \"calificacion\": 76},\n",
    "    {\"nombre\": \"Elena\", \"edad\": 23, \"calificacion\": 90}\n",
    "]\n",
    "\n",
    "# Usamos filter() para extraer estudiantes con calificación >= 90\n",
    "estudiantes_destacados = list(filter(lambda e: e[\"calificacion\"] >= 90, estudiantes))\n",
    "\n",
    "# Mostramos la lista de estudiantes que cumplen el criterio\n",
    "print(\"Estudiantes destacados:\")\n",
    "for estudiante in estudiantes_destacados:\n",
    "    print(f\"- {estudiante['nombre']} ({estudiante['edad']} años) → Calificación: {estudiante['calificacion']}\")\n"
   ]
  },
  {
   "cell_type": "code",
   "execution_count": 137,
   "id": "7c89b2f1",
   "metadata": {},
   "outputs": [
    {
     "name": "stdout",
     "output_type": "stream",
     "text": [
      "Los números impares en tu lista son: [1, 3, 5, 7, 9]\n"
     ]
    }
   ],
   "source": [
    "# 19. Crea una función lambda que filtre los números impares de una lista dada\n",
    "\n",
    "# Función lambda para filtrar números impares\n",
    "filtrar_impares = lambda lista: list(filter(lambda x: x % 2 != 0, lista))\n",
    "\n",
    "# Ejemplo de uso\n",
    "numeros = [1, 2, 3, 4, 5, 6, 7, 8, 9, 10]\n",
    "resultado = filtrar_impares(numeros)\n",
    "\n",
    "print(f\"Los números impares en tu lista son: {resultado}\")  \n"
   ]
  },
  {
   "cell_type": "code",
   "execution_count": 139,
   "id": "3e222e3f",
   "metadata": {},
   "outputs": [
    {
     "name": "stdout",
     "output_type": "stream",
     "text": [
      " Los números enteros de tu lista son: [1, 3, 7, 9]\n"
     ]
    }
   ],
   "source": [
    "# 20.  Para una lista con elementos tipo integer y string obtén una nueva lista sólo con \n",
    "# los valores int. Usa la función filter()\n",
    "\n",
    "# Lista con elementos de diferentes tipos\n",
    "elementos = [1, \"A mí\", 3, \"no me va\", 7, 2.5, \"a seleccionar\", 9]\n",
    "\n",
    "# Usamos filter() para seleccionar solo los valores de tipo int\n",
    "solo_enteros = list(filter(lambda x: isinstance(x, int), elementos))\n",
    "\n",
    "print(f\" Los números enteros de tu lista son: {solo_enteros}\")\n"
   ]
  },
  {
   "cell_type": "code",
   "execution_count": 147,
   "id": "34a1aa05",
   "metadata": {},
   "outputs": [
    {
     "name": "stdout",
     "output_type": "stream",
     "text": [
      "El cubo de tu número es: 64\n"
     ]
    }
   ],
   "source": [
    "# 21. Crea una función que calcule el cubo de un número dado mediante una función\n",
    "\n",
    "def calcular_cubo():\n",
    "    numero = int(input(\"Ingresa un número entero: \"))\n",
    "    return numero ** 3\n",
    "\n",
    "# Ejecución de la función\n",
    "resultado = calcular_cubo()\n",
    "print(f\"El cubo de tu número es: {resultado}\")\n"
   ]
  },
  {
   "cell_type": "code",
   "execution_count": 148,
   "id": "25ab89b9",
   "metadata": {},
   "outputs": [
    {
     "name": "stdout",
     "output_type": "stream",
     "text": [
      "El producto total de la lista es: 120\n"
     ]
    }
   ],
   "source": [
    "# 22. Dada una lista numérica, obtén el producto total de los valores de dicha lista.\n",
    "# Usa la función reduce() \n",
    "\n",
    "from functools import reduce\n",
    "\n",
    "# Función para calcular el producto total de los valores en la lista\n",
    "def producto_total(lista):\n",
    "    return reduce(lambda x, y: x * y, lista)\n",
    "\n",
    "# Ejemplo de uso\n",
    "numeros = [2, 3, 4, 5]\n",
    "resultado = producto_total(numeros)\n",
    "\n",
    "print(f\"El producto total de la lista es: {resultado}\")  \n"
   ]
  },
  {
   "cell_type": "code",
   "execution_count": 150,
   "id": "139ab064",
   "metadata": {},
   "outputs": [
    {
     "name": "stdout",
     "output_type": "stream",
     "text": [
      "El Real Madrd ganará el Mundial de Clubes\n"
     ]
    }
   ],
   "source": [
    "# 23. Concatena una lista de palabras.Usa la función reduce() \n",
    "\n",
    "from functools import reduce\n",
    "\n",
    "# Función para concatenar una lista de palabras\n",
    "def concatenar_palabras(lista):\n",
    "    return reduce(lambda x, y: x + \" \" + y, lista)\n",
    "\n",
    "# Ejemplo de uso\n",
    "palabras = [\"El\", \"Real Madrd\", \"ganará\", \"el\", \"Mundial de Clubes\"]\n",
    "resultado = concatenar_palabras(palabras)\n",
    "\n",
    "print(resultado)  # Salida: \"Hola mundo esto es Python\"\n"
   ]
  },
  {
   "cell_type": "code",
   "execution_count": 151,
   "id": "e44f4b1c",
   "metadata": {},
   "outputs": [
    {
     "name": "stdout",
     "output_type": "stream",
     "text": [
      "La diferencia total en la lista es: 40\n"
     ]
    }
   ],
   "source": [
    "# 24. Calcula la diferencia total en los valores de una lista. Usa la función reduce().\n",
    "\n",
    "from functools import reduce\n",
    "\n",
    "# Función para calcular la diferencia total en una lista de números\n",
    "def diferencia_total(lista):\n",
    "    return reduce(lambda x, y: x - y, lista)\n",
    "\n",
    "# Ejemplo de uso\n",
    "numeros = [100, 20, 30, 10]\n",
    "resultado = diferencia_total(numeros)\n",
    "\n",
    "print(f\"La diferencia total en la lista es: {resultado}\")  # Salida: 40\n"
   ]
  },
  {
   "cell_type": "code",
   "execution_count": 154,
   "id": "bd781b56",
   "metadata": {},
   "outputs": [
    {
     "name": "stdout",
     "output_type": "stream",
     "text": [
      "El número de caracteres en la cadena es: 40\n"
     ]
    }
   ],
   "source": [
    "# 25. Crea una función que cuente el número de caracteres en una cadena de texto dada\n",
    "\n",
    "def contar_caracteres(cadena):\n",
    "    return len(cadena)\n",
    "\n",
    "# Ejemplo de uso\n",
    "texto = \"Me apetece mucho comer arroz con tomate.\"\n",
    "resultado = contar_caracteres(texto)\n",
    "\n",
    "print(f\"El número de caracteres en la cadena es: {resultado}\")  # Salida: 12\n"
   ]
  },
  {
   "cell_type": "code",
   "execution_count": null,
   "id": "63fcd74f",
   "metadata": {},
   "outputs": [
    {
     "name": "stdout",
     "output_type": "stream",
     "text": [
      "El resto de tu división es 1\n"
     ]
    }
   ],
   "source": [
    "# 26. Crea una función lambda que calcule el resto de la división entre dos números dados\n",
    "\n",
    "# Función lambda para obtener el resto de la división\n",
    "resto_division = lambda x, y: x % y\n",
    "\n",
    "# Ejemplo de uso\n",
    "print(f\"El resto de tu división es {resto_division(10, 3)}\")"
   ]
  },
  {
   "cell_type": "code",
   "execution_count": 167,
   "id": "82551eb8",
   "metadata": {},
   "outputs": [
    {
     "name": "stdout",
     "output_type": "stream",
     "text": [
      "La media de tu lista es: '58.0'\n"
     ]
    }
   ],
   "source": [
    "# 27. Crea una función que calcule el promedio de una lista de números\n",
    "\n",
    "def calculadora_de_medias(lista):\n",
    "    return sum(lista)/len(lista) if lista else \"No hay valores en la lista\"\n",
    "\n",
    "numeros = [45, 75, 74, 23, 55, 76]\n",
    "resultado = calculadora_de_medias(numeros)\n",
    "\n",
    "print(f\"La media de tu lista es: '{resultado}'\")"
   ]
  },
  {
   "cell_type": "code",
   "execution_count": 170,
   "id": "9f29de3a",
   "metadata": {},
   "outputs": [
    {
     "name": "stdout",
     "output_type": "stream",
     "text": [
      "El primer elemento duplicado es: '5'\n"
     ]
    }
   ],
   "source": [
    "# 28. Crea una función que busque y devuelva el primer elemento duplicado en una lista dada\n",
    "\n",
    "def primer_duplicado(lista):\n",
    "    elementos_vistos = set()\n",
    "    for elemento in lista:\n",
    "        if elemento in elementos_vistos:\n",
    "            return elemento\n",
    "        elementos_vistos.add(elemento)\n",
    "    return \"No hay duplicados\" \n",
    "\n",
    "# Ejemplo de uso\n",
    "numeros = [3, 5, 7, 5, 9, 8]\n",
    "resultado = primer_duplicado(numeros)\n",
    "\n",
    "print(f\"El primer elemento duplicado es: '{resultado}'\") \n"
   ]
  },
  {
   "cell_type": "code",
   "execution_count": 174,
   "id": "e24319b9",
   "metadata": {},
   "outputs": [
    {
     "name": "stdout",
     "output_type": "stream",
     "text": [
      "Mi número de teléfono es: '#####6789'\n"
     ]
    }
   ],
   "source": [
    "# 29. Crea una función que convierta una variable en una cadena de texto y enmascare todos \n",
    "# los caracteres con el carácter '#', excepto los últimos cuatro\n",
    "\n",
    "def enmascarar(valor):\n",
    "    cadena = str(valor)  # Convertimos el valor en cadena\n",
    "    return \"#\" * (len(cadena) - 4) + cadena[-4:] if len(cadena) > 4 else cadena\n",
    "\n",
    "# Ejemplo de uso\n",
    "print(f\"Mi número de teléfono es: '{enmascarar(123456789)}'\") "
   ]
  },
  {
   "cell_type": "code",
   "execution_count": null,
   "id": "a91b3a62",
   "metadata": {},
   "outputs": [
    {
     "name": "stdout",
     "output_type": "stream",
     "text": [
      "True\n",
      "False\n",
      "True\n",
      "\"amor\" y \"Roma\" son anagramas.\n",
      "\"perro\" y \"gato\" NO son anagramas.\n",
      "\"jamon\" y \"monja\" son anagramas.\n"
     ]
    }
   ],
   "source": [
    "# 30. Crea una función que determine si dos palabras son anagramas, es decir, si están formadas por las \n",
    "# mismas letras pero en diferente orden\n",
    "\n",
    "def son_anagramas(palabra1, palabra2):\n",
    "    return sorted(palabra1.lower()) == sorted(palabra2.lower())\n",
    "\n",
    "# Ejemplo de uso\n",
    "print(son_anagramas(\"amor\", \"Roma\"))  \n",
    "print(son_anagramas(\"perro\", \"gato\"))\n",
    "print(son_anagramas(\"monja\", \"jamon\"))  \n",
    "\n",
    "# Aquí la respuesta es algo más estética y funcional\n",
    "\n",
    "def son_anagramas(palabra1, palabra2):\n",
    "    if sorted(palabra1.lower()) == sorted(palabra2.lower()):\n",
    "        return f'\"{palabra1}\" y \"{palabra2}\" son anagramas.'\n",
    "    else:\n",
    "        return f'\"{palabra1}\" y \"{palabra2}\" NO son anagramas.'\n",
    "\n",
    "# Ejemplo de uso\n",
    "print(son_anagramas(\"amor\", \"Roma\"))  \n",
    "print(son_anagramas(\"perro\", \"gato\"))  \n",
    "print(son_anagramas(\"jamon\", \"monja\"))  \n"
   ]
  },
  {
   "cell_type": "code",
   "execution_count": 196,
   "id": "5f6a9fb1",
   "metadata": {},
   "outputs": [
    {
     "name": "stdout",
     "output_type": "stream",
     "text": [
      "El nombre \"david\" fue encontrado en la lista.\n"
     ]
    }
   ],
   "source": [
    "# 31. Crea una función que solicite al usuario ingresar una lista de nombres y luego solicite \n",
    "# un nombre para buscar en esa lista. Si el nombre está en la lista, se imprime un mensaje \n",
    "# indicando que fue encontrado, de lo contrario, se lanza una excepción\n",
    "\n",
    "def buscar_nombre():\n",
    "    try:\n",
    "        # Solicitar lista de nombres al usuario\n",
    "        nombres = input(\"Ingresa nombres separados por comas: \").split(\",\")\n",
    "        nombres = [nombre.strip() for nombre in nombres]  # Eliminar espacios extra\n",
    "\n",
    "        # Solicitar el nombre a buscar\n",
    "        nombre_buscado = input(\"Ingresa el nombre que deseas buscar: \").strip()\n",
    "\n",
    "        # Verificar si el nombre está en la lista\n",
    "        if nombre_buscado in nombres:\n",
    "            print(f'El nombre \"{nombre_buscado}\" fue encontrado en la lista.')\n",
    "        else:\n",
    "            raise ValueError(f'Error: El nombre \"{nombre_buscado}\" no está en la lista.')\n",
    "    \n",
    "    except ValueError as e:\n",
    "        print(e)\n",
    "\n",
    "# Ejecutar la función\n",
    "buscar_nombre()\n"
   ]
  },
  {
   "cell_type": "code",
   "execution_count": null,
   "id": "0ed830d7",
   "metadata": {},
   "outputs": [
    {
     "name": "stdout",
     "output_type": "stream",
     "text": [
      "Luis Gómez trabaja como Analista de Datos.\n"
     ]
    }
   ],
   "source": [
    "# 32. Crea una función que tome un nombre completo y una lista de empleados, busque el nombre \n",
    "# completo en la lista y devuelve el puesto del empleado si está en la lista, de lo contrario, \n",
    "# devuelve un mensaje indicando que la persona no trabaja aquí.\n",
    "\n",
    "def buscar_empleado(nombre, empleados):\n",
    "    for empleado in empleados:\n",
    "        if empleado[\"nombre\"] == nombre:\n",
    "            return f'{nombre} trabaja como {empleado[\"puesto\"]}.'\n",
    "    return f'{nombre} no trabaja aquí.'\n",
    "\n",
    "# Lista de empleados con nombre y puesto\n",
    "empleados = [\n",
    "    {\"nombre\": \"Ana Pérez\", \"puesto\": \"Gerente de Ventas\"},\n",
    "    {\"nombre\": \"Luis Gómez\", \"puesto\": \"Analista de Datos\"},\n",
    "    {\"nombre\": \"Sofía Ramírez\", \"puesto\": \"Desarrolladora Web\"},\n",
    "    {\"nombre\": \"Carlos López\", \"puesto\": \"Diseñador Gráfico\"}\n",
    "]\n",
    "\n",
    "# Ejemplo de uso\n",
    "print(buscar_empleado(\"Luis Gómez\", empleados))"
   ]
  },
  {
   "cell_type": "code",
   "execution_count": 203,
   "id": "ed6adbcf",
   "metadata": {},
   "outputs": [
    {
     "name": "stdout",
     "output_type": "stream",
     "text": [
      "La suma de las listas resulta en [11, 22, 33, 44]\n",
      "La suma de las listas resulta en [11, 22, 33, 44]\n"
     ]
    }
   ],
   "source": [
    "# 33. Crea una función lambda que sume elementos correspondientes de dos listas dadas\n",
    "\n",
    "# Función lambda para sumar elementos de dos listas\n",
    "sumar_listas = lambda lista1, lista2: list(map(lambda x, y: x + y, lista1, lista2))\n",
    "\n",
    "# Ejemplo de uso\n",
    "lista_a = [1, 2, 3, 4]\n",
    "lista_b = [10, 20, 30, 40]\n",
    "resultado = sumar_listas(lista_a, lista_b)\n",
    "\n",
    "print(f\"La suma de las listas resulta en {resultado}\")\n",
    "\n",
    "\n",
    "#### Si lo quisiéramos sin la función lambda\n",
    "\n",
    "def sumar_listas(lista1, lista2): \n",
    "   return [lista1[i] + lista2[i] for i in range(min(len(lista1), len(lista2)))]\n",
    "      \n",
    "# Ejemplo de uso\n",
    "lista_a = [1, 2, 3, 4]\n",
    "lista_b = [10, 20, 30, 40]\n",
    "resultado = sumar_listas(lista_a, lista_b)\n",
    "\n",
    "print(f\"La suma de las listas resulta en {resultado}\")\n"
   ]
  },
  {
   "cell_type": "code",
   "execution_count": 2,
   "id": "026c1566",
   "metadata": {},
   "outputs": [
    {
     "name": "stdout",
     "output_type": "stream",
     "text": [
      "Tronco: 2, Número de ramas: 2, Longitudes de ramas: [2, 1]\n"
     ]
    }
   ],
   "source": [
    "# 34. Crea la clase Arbol , define un árbol genérico con un tronco y ramas como atributos. \n",
    "# Los métodos disponibles son: crecer_tronco , nueva_rama , crecer_ramas , quitar_rama e info_arbol. \n",
    "# El objetivo es implementar estos métodos para manipular la estructura del árbol.\n",
    "\n",
    "class Arbol:\n",
    "    def __init__(self):\n",
    "        \"\"\"Inicializa un árbol con un tronco de longitud 1 y una lista vacía de ramas.\"\"\"\n",
    "        self.tronco = 1\n",
    "        self.ramas = []\n",
    "\n",
    "    def crecer_tronco(self):\n",
    "        \"\"\"Aumenta la longitud del tronco en una unidad.\"\"\"\n",
    "        self.tronco += 1\n",
    "\n",
    "    def nueva_rama(self):\n",
    "        \"\"\"Agrega una nueva rama de longitud 1 a la lista de ramas.\"\"\"\n",
    "        self.ramas.append(1)\n",
    "\n",
    "    def crecer_ramas(self):\n",
    "        \"\"\"Aumenta en una unidad la longitud de todas las ramas existentes.\"\"\"\n",
    "        self.ramas = [rama + 1 for rama in self.ramas]\n",
    "\n",
    "    def quitar_rama(self, posicion):\n",
    "        \"\"\"Elimina una rama en una posición específica.\"\"\"\n",
    "        if 0 <= posicion < len(self.ramas):\n",
    "            del self.ramas[posicion]\n",
    "        else:\n",
    "            print(\"Posición inválida, no hay rama en esa ubicación.\")\n",
    "\n",
    "    def info_arbol(self):\n",
    "        \"\"\"Devuelve información sobre la longitud del tronco, el número de ramas y sus longitudes.\"\"\"\n",
    "        return f'Tronco: {self.tronco}, Número de ramas: {len(self.ramas)}, Longitudes de ramas: {self.ramas}'\n",
    "\n",
    "# Caso de uso\n",
    "mi_arbol = Arbol()  # 1. Crear un árbol\n",
    "mi_arbol.crecer_tronco()  # 2. Hacer crecer el tronco una unidad\n",
    "mi_arbol.nueva_rama()  # 3. Añadir una nueva rama\n",
    "mi_arbol.crecer_ramas()  # 4. Hacer crecer todas las ramas una unidad\n",
    "mi_arbol.nueva_rama()  # 5. Añadir otra nueva rama\n",
    "mi_arbol.nueva_rama()  # 5. Añadir una segunda nueva rama\n",
    "mi_arbol.quitar_rama(2)  # 6. Retirar la rama en la posición 2\n",
    "print(mi_arbol.info_arbol())  # 7. Obtener información sobre el árbol\n"
   ]
  },
  {
   "cell_type": "code",
   "execution_count": null,
   "id": "7e895e7b",
   "metadata": {},
   "outputs": [
    {
     "name": "stdout",
     "output_type": "stream",
     "text": [
      "Usuario: Alicia, Saldo: 100, Cuenta corriente: Sí\n",
      "Usuario: Bob, Saldo: 50, Cuenta corriente: Sí\n",
      "Bob ha agregado 20. Saldo actual: 70\n"
     ]
    },
    {
     "ename": "ValueError",
     "evalue": "Error: Bob no tiene suficiente saldo para transferir 80.",
     "output_type": "error",
     "traceback": [
      "\u001b[31m---------------------------------------------------------------------------\u001b[39m",
      "\u001b[31mValueError\u001b[39m                                Traceback (most recent call last)",
      "\u001b[36mCell\u001b[39m\u001b[36m \u001b[39m\u001b[32mIn[8]\u001b[39m\u001b[32m, line 43\u001b[39m\n\u001b[32m     41\u001b[39m \u001b[38;5;28mprint\u001b[39m(usuario2.info_usuario())  \u001b[38;5;66;03m# Muestra info de Bob\u001b[39;00m\n\u001b[32m     42\u001b[39m \u001b[38;5;28mprint\u001b[39m(usuario2.agregar_dinero(\u001b[32m20\u001b[39m))  \u001b[38;5;66;03m# Bob agrega dinero\u001b[39;00m\n\u001b[32m---> \u001b[39m\u001b[32m43\u001b[39m \u001b[38;5;28mprint\u001b[39m(\u001b[43musuario2\u001b[49m\u001b[43m.\u001b[49m\u001b[43mtransferir_dinero\u001b[49m\u001b[43m(\u001b[49m\u001b[43musuario1\u001b[49m\u001b[43m,\u001b[49m\u001b[43m \u001b[49m\u001b[32;43m80\u001b[39;49m\u001b[43m)\u001b[49m)  \u001b[38;5;66;03m# Bob transfiere dinero a Alicia\u001b[39;00m\n\u001b[32m     44\u001b[39m \u001b[38;5;28mprint\u001b[39m(usuario1.retirar_dinero(\u001b[32m50\u001b[39m))  \u001b[38;5;66;03m# Alicia retira dinero\u001b[39;00m\n",
      "\u001b[36mCell\u001b[39m\u001b[36m \u001b[39m\u001b[32mIn[8]\u001b[39m\u001b[32m, line 22\u001b[39m, in \u001b[36mUsuarioBanco.transferir_dinero\u001b[39m\u001b[34m(self, destinatario, cantidad)\u001b[39m\n\u001b[32m     20\u001b[39m \u001b[38;5;250m\u001b[39m\u001b[33;03m\"\"\"Transfiere dinero a otro usuario si hay suficiente saldo, lanza un error en caso contrario.\"\"\"\u001b[39;00m\n\u001b[32m     21\u001b[39m \u001b[38;5;28;01mif\u001b[39;00m cantidad > \u001b[38;5;28mself\u001b[39m.saldo:\n\u001b[32m---> \u001b[39m\u001b[32m22\u001b[39m     \u001b[38;5;28;01mraise\u001b[39;00m \u001b[38;5;167;01mValueError\u001b[39;00m(\u001b[33mf\u001b[39m\u001b[33m\"\u001b[39m\u001b[33mError: \u001b[39m\u001b[38;5;132;01m{\u001b[39;00m\u001b[38;5;28mself\u001b[39m.nombre\u001b[38;5;132;01m}\u001b[39;00m\u001b[33m no tiene suficiente saldo para transferir \u001b[39m\u001b[38;5;132;01m{\u001b[39;00mcantidad\u001b[38;5;132;01m}\u001b[39;00m\u001b[33m.\u001b[39m\u001b[33m\"\u001b[39m)\n\u001b[32m     23\u001b[39m \u001b[38;5;28mself\u001b[39m.saldo -= cantidad\n\u001b[32m     24\u001b[39m destinatario.saldo += cantidad\n",
      "\u001b[31mValueError\u001b[39m: Error: Bob no tiene suficiente saldo para transferir 80."
     ]
    }
   ],
   "source": [
    "# 36. Crea la clase UsuarioBanco ,representa a un usuario de un banco con su nombre, saldo y si \n",
    "# tiene o no cuenta corriente. Proporciona métodos para realizar operaciones como retirar dinero, \n",
    "# transferir dinero desde otro usuario y agregar dinero al saldo.\n",
    "\n",
    "class UsuarioBanco:\n",
    "    def __init__(self, nombre, saldo, cuenta_corriente=True):\n",
    "        \"\"\"Inicializa un usuario con nombre, saldo y si tiene cuenta corriente.\"\"\"\n",
    "        self.nombre = nombre\n",
    "        self.saldo = saldo\n",
    "        self.cuenta_corriente = cuenta_corriente\n",
    "\n",
    "    def retirar_dinero(self, cantidad):\n",
    "        \"\"\"Retira dinero del saldo si hay suficiente, lanza un error en caso contrario.\"\"\"\n",
    "        if cantidad > self.saldo:\n",
    "            raise ValueError(f\"Error: {self.nombre} no tiene suficiente saldo para retirar {cantidad}.\")\n",
    "        self.saldo -= cantidad\n",
    "        return f\"{self.nombre} ha retirado {cantidad}. Saldo restante: {self.saldo}\"\n",
    "\n",
    "    def transferir_dinero(self, destinatario, cantidad):\n",
    "        \"\"\"Transfiere dinero a otro usuario si hay suficiente saldo, lanza un error en caso contrario.\"\"\"\n",
    "        if cantidad > self.saldo:\n",
    "            raise ValueError(f\"Error: {self.nombre} no tiene suficiente saldo para transferir {cantidad}.\")\n",
    "        self.saldo -= cantidad\n",
    "        destinatario.saldo += cantidad\n",
    "        return f\"{self.nombre} ha transferido {cantidad} a {destinatario.nombre}. Saldo restante: {self.saldo}\"\n",
    "\n",
    "    def agregar_dinero(self, cantidad):\n",
    "        \"\"\"Agrega dinero al saldo del usuario.\"\"\"\n",
    "        self.saldo += cantidad\n",
    "        return f\"{self.nombre} ha agregado {cantidad}. Saldo actual: {self.saldo}\"\n",
    "\n",
    "    def info_usuario(self):\n",
    "        \"\"\"Devuelve la información del usuario.\"\"\"\n",
    "        return f\"Usuario: {self.nombre}, Saldo: {self.saldo}, Cuenta corriente: {'Sí' if self.cuenta_corriente else 'No'}\"\n",
    "\n",
    "# Ejemplo de uso\n",
    "usuario1 = UsuarioBanco(\"Alicia\", 100, True)\n",
    "usuario2 = UsuarioBanco(\"Bob\", 50, True)\n",
    "\n",
    "print(usuario1.info_usuario())  # Muestra info de Alicia\n",
    "print(usuario2.info_usuario())  # Muestra info de Bob\n",
    "print(usuario2.agregar_dinero(20))  # Bob agrega dinero\n",
    "print(usuario2.transferir_dinero(usuario1, 80))  # Bob transfiere dinero a Alicia\n",
    "print(usuario1.retirar_dinero(50))  # Alicia retira dinero\n",
    "\n",
    "# No hay suficiente saldo en la cuenta de Bob\n"
   ]
  },
  {
   "cell_type": "code",
   "execution_count": 14,
   "id": "2cd1b71e",
   "metadata": {},
   "outputs": [
    {
     "name": "stdout",
     "output_type": "stream",
     "text": [
      "Error: Ingresa un número válido.\n"
     ]
    }
   ],
   "source": [
    "# 37. Genera un programa que nos diga si es de noche, de día o tarde según la hora \n",
    "# proporcionada por el usuario.\n",
    "\n",
    "def determinar_momento_del_dia(hora):\n",
    "    \"\"\"Determina si es de noche, día o tarde según la hora ingresada.\"\"\"\n",
    "    if 0 <= hora < 6:\n",
    "        return \"Es de noche.\"\n",
    "    elif 6 <= hora < 12:\n",
    "        return \"Es de día.\"\n",
    "    elif 12 <= hora < 18:\n",
    "        return \"Es la tarde.\"\n",
    "    elif 18 <= hora <= 24:\n",
    "        return \"Es de noche.\"\n",
    "    else:\n",
    "        return \"Hora inválida. Ingresa un valor entre 0 y 24.\"\n",
    "\n",
    "# Solicitar la hora al usuario\n",
    "try:\n",
    "    hora_usuario = int(input(\"Ingresa la hora en formato 24 horas (0-24): \"))\n",
    "    print(determinar_momento_del_dia(hora_usuario))\n",
    "except ValueError:\n",
    "    print(\"Error: Ingresa un número válido.\")\n"
   ]
  },
  {
   "cell_type": "code",
   "execution_count": 16,
   "id": "19ebf319",
   "metadata": {},
   "outputs": [
    {
     "name": "stdout",
     "output_type": "stream",
     "text": [
      "Tu calificación es: Bien\n"
     ]
    }
   ],
   "source": [
    "# 39.  Escribe un programa que determine qué calificación en texto tiene un alumno en base a su \n",
    "# calificación numérica. Las reglas de calificación son:  \n",
    "# 0 - 69 insuficiente\n",
    "# 70 - 79 bien\n",
    "# 80 - 89 muy bien \n",
    "# 90 - 100 excelente\n",
    "\n",
    "def determinar_calificacion(nota):\n",
    "    \"\"\"Determina la calificación en texto según la nota numérica.\"\"\"\n",
    "    if 0 <= nota <= 69:\n",
    "        return \"Insuficiente\"\n",
    "    elif 70 <= nota <= 79:\n",
    "        return \"Bien\"\n",
    "    elif 80 <= nota <= 89:\n",
    "        return \"Muy bien\"\n",
    "    elif 90 <= nota <= 100:\n",
    "        return \"Excelente\"\n",
    "    else:\n",
    "        return \"Nota inválida. Ingresa un valor entre 0 y 100.\"\n",
    "\n",
    "# Solicitar la calificación al usuario\n",
    "try:\n",
    "    nota_usuario = int(input(\"Ingresa tu calificación numérica (0-100): \"))\n",
    "    print(f\"Tu calificación es: {determinar_calificacion(nota_usuario)}\")\n",
    "except ValueError:\n",
    "    print(\"Error: Ingresa un número válido.\")\n"
   ]
  },
  {
   "cell_type": "code",
   "execution_count": null,
   "id": "adbb5343",
   "metadata": {},
   "outputs": [
    {
     "name": "stdout",
     "output_type": "stream",
     "text": [
      "25.0\n",
      "32\n",
      "153.93804002589985\n",
      "Figura no reconocida. Usa 'triangulo', 'rectangulo' o 'circulo'.\n"
     ]
    }
   ],
   "source": [
    "# 40.  Escribe una función que tome dos parámetros: figura (una cadena que puede ser \"rectangulo, \n",
    "# \"circulo\" o \"triangulo\") y datos (una tupla con los datos necesarios para calcular el área de una figura)\n",
    "\n",
    "import math\n",
    "\n",
    "def calcular_area(figura, datos):\n",
    "    \"\"\"Calcula el área de una figura geométrica.\"\"\"\n",
    "    if figura.lower() == \"triangulo\":\n",
    "        base, altura = datos\n",
    "        return (base * altura) / 2\n",
    "    elif figura.lower() == \"rectangulo\":\n",
    "        ancho, alto = datos\n",
    "        return ancho * alto\n",
    "    elif figura.lower() == \"circulo\":\n",
    "        radio, = datos\n",
    "        return math.pi * (radio ** 2)\n",
    "    else:\n",
    "        return \"Figura no reconocida. Usa 'triangulo', 'rectangulo' o 'circulo'.\"\n",
    "\n",
    "# Ejemplo de uso\n",
    "print(calcular_area(\"triangulo\", (10, 5)))  \n",
    "print(calcular_area(\"rectangulo\", (8, 4)))  \n",
    "print(calcular_area(\"circulo\", (7,)))  \n",
    "\n",
    "# En funcion de lo que queramos calcular, solo printearemos lo que sea preciso\n"
   ]
  },
  {
   "cell_type": "code",
   "execution_count": 18,
   "id": "4b2bf90a",
   "metadata": {},
   "outputs": [
    {
     "name": "stdout",
     "output_type": "stream",
     "text": [
      "El precio final de la compra es: 65.00€\n"
     ]
    }
   ],
   "source": [
    "# 41.  En este ejercicio, se te pedirá que escribas un programa en Python que utilice condicionales \n",
    "# para determinar el monto final de una compra en una tienda en línea, después de aplicar un descuento. \n",
    "# El programa debe hacer lo siguiente: \n",
    "# - 1. Solicita al usuario que ingrese el precio original de un artículo \n",
    "# - 2. Pregunta al usuario si tiene un cupón de descuento (respuesta sí o no).\n",
    "# - 3. Si el usuario responde que sí, solicita que ingrese el valor del cupón de descuento.\n",
    "# - 4. Aplica el descuento al precio original del artículo, siempre y cuando el valor \n",
    "#   del cupón sea válido (es decir, mayor a cero). Por ejemplo, descuento de 15€. 5. \n",
    "#   Muestra el precio final de la compra, teniendo en cuenta el descuento aplicado o sin él. \n",
    "# - 6. Recuerda utilizar estructuras de control de flujo como if, elif y else para llevar a cabo estas acciones en tu \n",
    "#   programa de Python.\n",
    "\n",
    "def calcular_precio_final():\n",
    "    \"\"\"Calcula el precio final de una compra después de aplicar un descuento.\"\"\"\n",
    "    \n",
    "    try:\n",
    "        # 1. Solicitar el precio original del artículo\n",
    "        precio_original = float(input(\"Ingresa el precio original del artículo: \"))\n",
    "\n",
    "        # 2. Preguntar si el usuario tiene un cupón de descuento\n",
    "        tiene_cupon = input(\"¿Tienes un cupón de descuento? (sí/no): \").strip().lower()\n",
    "\n",
    "        # 3. Si el usuario tiene cupón, solicitar su valor\n",
    "        descuento = 0\n",
    "        if tiene_cupon == \"sí\":\n",
    "            descuento = float(input(\"Ingresa el valor del cupón de descuento: \"))\n",
    "\n",
    "            # 4. Validar que el descuento sea válido\n",
    "            if descuento <= 0:\n",
    "                print(\"El descuento ingresado no es válido. No se aplicará ningún descuento.\")\n",
    "                descuento = 0\n",
    "\n",
    "        # 5. Calcular el precio final\n",
    "        precio_final = precio_original - descuento\n",
    "\n",
    "        # 6. Mostrar el precio final\n",
    "        print(f\"El precio final de la compra es: {precio_final:.2f}€\")\n",
    "\n",
    "    except ValueError:\n",
    "        print(\"Error: Por favor, ingresa valores numéricos válidos.\")\n",
    "\n",
    "# Ejecutar el programa\n",
    "calcular_precio_final()\n"
   ]
  }
 ],
 "metadata": {
  "kernelspec": {
   "display_name": "Python 3",
   "language": "python",
   "name": "python3"
  },
  "language_info": {
   "codemirror_mode": {
    "name": "ipython",
    "version": 3
   },
   "file_extension": ".py",
   "mimetype": "text/x-python",
   "name": "python",
   "nbconvert_exporter": "python",
   "pygments_lexer": "ipython3",
   "version": "3.13.3"
  }
 },
 "nbformat": 4,
 "nbformat_minor": 5
}
